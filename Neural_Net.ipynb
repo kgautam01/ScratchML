{
  "nbformat": 4,
  "nbformat_minor": 0,
  "metadata": {
    "colab": {
      "name": "Neural Net from scratch",
      "provenance": [],
      "collapsed_sections": []
    },
    "kernelspec": {
      "name": "python3",
      "display_name": "Python 3"
    }
  },
  "cells": [
    {
      "cell_type": "code",
      "metadata": {
        "id": "aNp5Yus_xRcZ",
        "colab_type": "code",
        "outputId": "d42c6fa6-e788-40ff-c2ee-70a933e108e1",
        "colab": {
          "base_uri": "https://localhost:8080/",
          "height": 51
        }
      },
      "source": [
        "%tensorflow_version 1.x\n",
        "import tensorflow as tf\n",
        "import numpy as np\n",
        "import math\n",
        "from tensorflow.python.framework import ops\n",
        "import matplotlib.pyplot as plt\n",
        "print('TensorFlow Version:', tf.__version__)"
      ],
      "execution_count": 1,
      "outputs": [
        {
          "output_type": "stream",
          "text": [
            "TensorFlow 1.x selected.\n",
            "TensorFlow Version: 1.15.2\n"
          ],
          "name": "stdout"
        }
      ]
    },
    {
      "cell_type": "code",
      "metadata": {
        "id": "1kUyfQEMmHIM",
        "colab_type": "code",
        "colab": {}
      },
      "source": [
        "def load_data():\n",
        "    (x_train, y_train), (x_test, y_test) = tf.keras.datasets.mnist.load_data()\n",
        "    x_train = np.reshape(x_train, (x_train.shape[0], 784))/255.\n",
        "    x_test = np.reshape(x_test, (x_test.shape[0], 784))/255.\n",
        "    y_train = tf.keras.utils.to_categorical(y_train)\n",
        "    y_test = tf.keras.utils.to_categorical(y_test)\n",
        "    return (x_train, y_train), (x_test, y_test)"
      ],
      "execution_count": 0,
      "outputs": []
    },
    {
      "cell_type": "code",
      "metadata": {
        "id": "ZhPQeTu-_Rko",
        "colab_type": "code",
        "colab": {}
      },
      "source": [
        "class model:\n",
        "  def __init__(self, layer_dims):\n",
        "    self.layer_dims = layer_dims\n",
        "    self.L = len(layer_dims)\n",
        "    self.hl = self.L-2\n",
        "    self.n_x = layer_dims[0]\n",
        "    self.n_y = layer_dims[-1]\n",
        "    self.W = {}\n",
        "    self.b = {}\n",
        "\n",
        "  def info(self):\n",
        "    print('------------------------------')\n",
        "    print('Input Features:', self.n_x)\n",
        "    print('Number of Classes:', self.n_y)\n",
        "    for i in range(1, self.L-1):\n",
        "        print('Units in Hidden Layer {}: {}'.format(i, self.layer_dims[i]))\n",
        "    print('------------------------------')\n",
        "  \n",
        "  def init_params(self):\n",
        "    for i in range(1, self.L):\n",
        "      self.W['W'+str(i)] = tf.get_variable('W'+str(i),\n",
        "                                       [self.layer_dims[i], self.layer_dims[i-1]],\n",
        "                                       initializer = tf.contrib.layers.xavier_initializer())\n",
        "      self.b['b'+str(i)] = tf.get_variable('b'+str(i),\n",
        "                                                    [self.layer_dims[i], 1],\n",
        "                                                    initializer = tf.zeros_initializer())\n",
        "  \n",
        "  def create_placeholders(self):\n",
        "    x = tf.placeholder(dtype = tf.float32, shape = (self.n_x, None), name = \"x\")\n",
        "    y = tf.placeholder(dtype = tf.float32, shape = (self.n_y, None), name = \"y\")\n",
        "    return x, y\n",
        "\n",
        "  def forward_pass_train(self, x, rate):\n",
        "    Z = A = {}\n",
        "    A[0] = x\n",
        "    l = self.L-1\n",
        "    for i in range(1, l):\n",
        "      Z[i] = tf.add(tf.matmul(self.W['W'+str(i)], A[i-1]), self.b['b'+str(i)])\n",
        "      relu = tf.nn.relu(Z[i])\n",
        "      A[i] = tf.nn.dropout(relu, rate)\n",
        "    Z[l] = tf.add(tf.matmul(self.W['W'+str(l)], A[l-1]), self.b['b'+str(l)])\n",
        "    return Z[l]\n",
        "\n",
        "  def forward_pass_test(self, x):\n",
        "    Z = A = {}\n",
        "    A[0] = x\n",
        "    l = self.L-1\n",
        "    for i in range(1, l):\n",
        "      Z[i] = tf.add(tf.matmul(self.W['W'+str(i)], A[i-1]), self.b['b'+str(i)])\n",
        "      A[i] = tf.nn.relu(Z[i])\n",
        "    Z[l] = tf.add(tf.matmul(self.W['W'+str(l)], A[l-1]), self.b['b'+str(l)])\n",
        "    return Z[l]\n",
        "\n",
        "  def compute_cost(self, Z, y, lambd):\n",
        "    logits = tf.transpose(Z)\n",
        "    labels = tf.transpose(y)\n",
        "    cost = tf.reduce_mean(tf.nn.softmax_cross_entropy_with_logits_v2(logits = logits,\n",
        "                                                                  labels = labels))\n",
        "    #for i in range(1, self.L):  \n",
        "    regularizers = tf.nn.l2_loss(self.W['W1']) + tf.nn.l2_loss(self.W['W2']) + tf.nn.l2_loss(self.W['W3']) \n",
        "    cost = tf.reduce_mean(cost + lambd * regularizers)\n",
        "    return cost\n",
        "\n",
        "  def backward_pass(self, cost, learning_rate):\n",
        "    return tf.train.AdamOptimizer(learning_rate = learning_rate).minimize(cost)"
      ],
      "execution_count": 0,
      "outputs": []
    },
    {
      "cell_type": "code",
      "metadata": {
        "id": "TDRrH-PpdOTv",
        "colab_type": "code",
        "colab": {}
      },
      "source": [
        "class model(model):\n",
        "  def random_mini_batches(self, x, y, mini_batch_size):   \n",
        "    m = x.shape[1]\n",
        "    mini_batches = []\n",
        "    \n",
        "    # Step 1: Shuffle (X, Y)\n",
        "    permutation = list(np.random.permutation(m))\n",
        "    shuffled_x = x[:, permutation]\n",
        "    shuffled_y = y[:, permutation].reshape((y.shape[0],m))\n",
        "\n",
        "    # Step 2: Partition (shuffled_X, shuffled_Y). Minus the end case.\n",
        "    # number of mini batches of size mini_batch_size in your partitionning\n",
        "    num_complete_minibatches = math.floor(m/mini_batch_size)\n",
        "    for k in range(0, num_complete_minibatches):\n",
        "        mini_batch_x = shuffled_x[:, k * mini_batch_size : k * mini_batch_size + mini_batch_size]\n",
        "        mini_batch_y = shuffled_y[:, k * mini_batch_size : k * mini_batch_size + mini_batch_size]\n",
        "        mini_batch = (mini_batch_x, mini_batch_y)\n",
        "        mini_batches.append(mini_batch)\n",
        "    \n",
        "    # Handling the end case (last mini-batch < mini_batch_size)\n",
        "    if m % mini_batch_size != 0:\n",
        "        mini_batch_x = shuffled_x[:, num_complete_minibatches * mini_batch_size : m]\n",
        "        mini_batch_y = shuffled_y[:, num_complete_minibatches * mini_batch_size : m]\n",
        "        mini_batch = (mini_batch_x, mini_batch_y)\n",
        "        mini_batches.append(mini_batch)\n",
        "    return mini_batches"
      ],
      "execution_count": 0,
      "outputs": []
    },
    {
      "cell_type": "code",
      "metadata": {
        "id": "zuMvr9f_C3OS",
        "colab_type": "code",
        "colab": {}
      },
      "source": [
        "class model(model):\n",
        "  def train(self, x_train, y_train, x_test, y_test, epochs = 501,\n",
        "            mini_batch_size = 128, learning_rate = 0.001,\n",
        "            lambd = 0.01, keep_prob = 0.5, print_cost = True):\n",
        "    ops.reset_default_graph()  \n",
        "    costs = []\n",
        "    lambd = tf.constant(lambd, name = \"lambd\")\n",
        "    rate = tf.constant(1-keep_prob, name = \"rate\")\n",
        "    x, y = self.create_placeholders()\n",
        "    self.init_params()\n",
        "    Z = self.forward_pass_test(x)\n",
        "    cost = self.compute_cost(Z, y, lambd)\n",
        "    optimizer = self.backward_pass(cost, learning_rate)\n",
        "    init = tf.global_variables_initializer()\n",
        "\n",
        "    with tf.Session() as sess:\n",
        "      sess.run(init)\n",
        "\n",
        "      for epoch in range(epochs):\n",
        "        epoch_cost = 0.\n",
        "        m = x_train.shape[1]    #Number of examples\n",
        "        num_minibatches = m//mini_batch_size\n",
        "        mini_batches = self.random_mini_batches(x_train, y_train,\n",
        "                                           mini_batch_size)\n",
        "        for mini_batch in mini_batches:\n",
        "          (x_minibatch, y_minibatch) = mini_batch\n",
        "          _, minibatch_cost = sess.run([optimizer, cost], feed_dict = \n",
        "                                       {x: x_minibatch, y: y_minibatch})\n",
        "          epoch_cost += minibatch_cost/mini_batch_size\n",
        "\n",
        "        if print_cost == True and epoch % 100 == 0:\n",
        "          print (\"Cost after epoch %i: %f\" % (epoch, epoch_cost))\n",
        "        if print_cost == True and epoch % 5 == 0:\n",
        "          costs.append(epoch_cost)\n",
        "\n",
        "      plt.plot(np.squeeze(costs))\n",
        "      plt.ylabel('cost')\n",
        "      plt.xlabel('iterations (per fives)')\n",
        "      plt.title(\"Learning rate =\" + str(learning_rate))\n",
        "      plt.show()\n",
        "\n",
        "\n",
        "      #predictions = self.forward_pass_test(x)\n",
        "      print(\"The model has been trained.\")\n",
        "      correct_prediction_train = tf.equal(tf.argmax(Z), tf.argmax(y))\n",
        "      accuracy = tf.reduce_mean(tf.cast(correct_prediction_train, \"float\"))\n",
        "      print(\"Train Accuracy: {:.3f}\".format(accuracy.eval({x: x_train, y: y_train})))\n",
        "      #correct_prediction_test = tf.equal(tf.argmax(predictions), tf.argmax(y))\n",
        "      #test_accuracy = tf.reduce_mean(tf.cast(correct_prediction_test, \"float\"))\n",
        "      print(\"Test Accuracy: {:.3f}\".format(accuracy.eval({x: x_test, y: y_test})))\n",
        "\n",
        "  def predict(self, x):\n",
        "    Z = self.forward_pass_test(x)\n",
        "    return tf.argmax(tf.nn.softmax(Z), axis = 1)"
      ],
      "execution_count": 0,
      "outputs": []
    },
    {
      "cell_type": "code",
      "metadata": {
        "id": "fsVxTXzjmEet",
        "colab_type": "code",
        "outputId": "41fa9e97-5347-4cd5-86d2-2910c582f0be",
        "colab": {
          "base_uri": "https://localhost:8080/",
          "height": 136
        }
      },
      "source": [
        "(x_train, y_train), (x_test, y_test) = load_data()\n",
        "model = model([784, 512, 256, 128, 10])     \n",
        "# First and last index above, represents the input and output layer dimensions respectively. \n",
        "# Rest are hidden layer dimensions. Any number of hidden layers can be added. Just make sure\n",
        "# to make changes in the calculations of 'regularizers' in compute_cost function.\n",
        "model.info()"
      ],
      "execution_count": 6,
      "outputs": [
        {
          "output_type": "stream",
          "text": [
            "------------------------------\n",
            "Input Features: 784\n",
            "Number of Classes: 10\n",
            "Units in Hidden Layer 1: 512\n",
            "Units in Hidden Layer 2: 256\n",
            "Units in Hidden Layer 3: 128\n",
            "------------------------------\n"
          ],
          "name": "stdout"
        }
      ]
    },
    {
      "cell_type": "code",
      "metadata": {
        "id": "c5t1dpJ0n6IG",
        "colab_type": "code",
        "outputId": "e55216f4-985b-42de-9f97-263da7ebfc89",
        "colab": {
          "base_uri": "https://localhost:8080/",
          "height": 584
        }
      },
      "source": [
        "model.train(x_train.T, y_train.T, x_test.T, y_test.T)"
      ],
      "execution_count": 0,
      "outputs": [
        {
          "output_type": "stream",
          "text": [
            "WARNING:tensorflow:\n",
            "The TensorFlow contrib module will not be included in TensorFlow 2.0.\n",
            "For more information, please see:\n",
            "  * https://github.com/tensorflow/community/blob/master/rfcs/20180907-contrib-sunset.md\n",
            "  * https://github.com/tensorflow/addons\n",
            "  * https://github.com/tensorflow/io (for I/O related ops)\n",
            "If you depend on functionality not listed there, please file an issue.\n",
            "\n",
            "Cost after epoch 0: 5.099655\n",
            "Cost after epoch 100: 0.674437\n",
            "Cost after epoch 200: 0.622337\n",
            "Cost after epoch 300: 0.595217\n",
            "Cost after epoch 400: 0.587128\n",
            "Cost after epoch 500: 0.591092\n"
          ],
          "name": "stdout"
        },
        {
          "output_type": "display_data",
          "data": {
            "image/png": "[encoded data removed]",
            "text/plain": [
              "<Figure size 432x288 with 1 Axes>"
            ]
          },
          "metadata": {
            "tags": [],
            "needs_background": "light"
          }
        },
        {
          "output_type": "stream",
          "text": [
            "The model has been trained.\n",
            "Train Accuracy: 0.975\n",
            "Test Accuracy: 0.966\n"
          ],
          "name": "stdout"
        }
      ]
    }
  ]
}